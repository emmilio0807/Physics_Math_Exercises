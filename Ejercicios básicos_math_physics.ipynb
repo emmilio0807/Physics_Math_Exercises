{
 "cells": [
  {
   "cell_type": "markdown",
   "metadata": {},
   "source": [
    "Ejercicios matemáticos básicos"
   ]
  },
  {
   "cell_type": "code",
   "execution_count": null,
   "metadata": {},
   "outputs": [],
   "source": [
    "#Calculadora de IMC (Índice de Masa Corporal)\n",
    "\n",
    "peso = float(input(\"Ingresa el peso: \"))\n",
    "altura = float(input(\"Ingresa la altura: \"))\n",
    "\n",
    "imc = peso/altura**2 \n",
    "imc_redondeado = round(imc, 2) #Se declara esta variable para redondear el resultado inicial \"imc\" a dos cifras decimales con la funcion round\n",
    "\n",
    "print(f\"El índice de masa corporal es: {imc_redondeado}\")\n"
   ]
  },
  {
   "cell_type": "code",
   "execution_count": null,
   "metadata": {},
   "outputs": [],
   "source": [
    "#Conversor de temperatura\n",
    "\n",
    "celsius = float(input(\"Ingresa la temperatura en grados celcius: \"))\n",
    "fahrenheit = (celsius*(9/5))+32\n",
    "fahrenheit_round = round(fahrenheit, 2)\n",
    "print(f\"La temperatura en grados fahrenheit es: {fahrenheit_round}\")"
   ]
  },
  {
   "cell_type": "code",
   "execution_count": null,
   "metadata": {},
   "outputs": [],
   "source": [
    "#Calculadora de descuento\n",
    "\n",
    "precio_original = float(input(\"Ingrese el precio original de producto: \"))\n",
    "descuento = float(input(\"Ingrese el descuento a aplicar: \"))\n",
    "precio_final = precio_original-(precio_original*(descuento/100))\n",
    "precio_final_round = round(precio_final, 2)\n",
    "print(precio_final_round)"
   ]
  },
  {
   "cell_type": "code",
   "execution_count": null,
   "metadata": {},
   "outputs": [],
   "source": [
    "#calculadora de edad\n",
    "\n",
    "fecha_nacimiento = int(input(\"Ingrese el año de nacimiento: \"))\n",
    "fecha_actual = int(input(\"Ingrese el año actual: \"))\n",
    "edad = fecha_actual-fecha_nacimiento\n",
    "print(f\"Su edad actual es: {edad}\")"
   ]
  },
  {
   "cell_type": "markdown",
   "metadata": {},
   "source": [
    "Ejercicios básicos de física "
   ]
  },
  {
   "cell_type": "code",
   "execution_count": null,
   "metadata": {},
   "outputs": [],
   "source": [
    "#Cálculo de la energía cinética\n",
    "\n",
    "masa = float(input(\"Ingrese la masa del cuerpo en kilogramos: \"))\n",
    "velocidad = float(input(\"Ingrese la velocidad en metros por segundo: \"))\n",
    "e_cinetica = (1/2)*(masa)*(velocidad)**2\n",
    "e_cinetica_r = round (e_cinetica, 2)\n",
    "print(f\"La energia cinética es: {e_cinetica_r} joules\")"
   ]
  },
  {
   "cell_type": "code",
   "execution_count": null,
   "metadata": {},
   "outputs": [],
   "source": [
    "#Cálculo de la fuerza gravitacional\n",
    "\n",
    "masa1 = float(input(\"Ingrese la masa del cuerpo 1 en kg: \"))\n",
    "masa2 = float(input(\"Ingrese la masa del cuerpo 2 en kg: \"))\n",
    "distancia = float(input(\"Ingrese la distancia (m) entre ellos: \"))\n",
    "G = 6.67430*(10**-11)\n",
    "f_gravitacional = ((G*masa1*masa2))/(distancia**2)\n",
    "print(\"la fuerza de atracción es:\", format(f_gravitacional, \".2E\"), \"N\")\n"
   ]
  },
  {
   "cell_type": "code",
   "execution_count": 7,
   "metadata": {},
   "outputs": [
    {
     "name": "stdout",
     "output_type": "stream",
     "text": [
      "la posicion final es: 52 metros\n"
     ]
    }
   ],
   "source": [
    "#Movimiento rectilineo uniforme\n",
    "\n",
    "p_inicial = int(input(\"ingrese la posicion inicial en metros: \"))\n",
    "velocidad = int(input(\"ingrese la velocidad en metros por segundo: \"))\n",
    "tiempo = int(input(\"ingrese el tiempo en segundos: \"))\n",
    "p_final = p_inicial + velocidad*tiempo\n",
    "redondeo = round(p_final,2)\n",
    "print(f\"la posicion final es: {redondeo} metros\")"
   ]
  },
  {
   "cell_type": "code",
   "execution_count": 8,
   "metadata": {},
   "outputs": [
    {
     "name": "stdout",
     "output_type": "stream",
     "text": [
      "el periodo del pendulo es: 14.19 segundos\n"
     ]
    }
   ],
   "source": [
    "#Periodo de un pendulo simple\n",
    "\n",
    "import math\n",
    "longitud = int(input(\"ingrese la longitud del pendulo en metros: \"))\n",
    "periodo = 2*math.pi*math.sqrt(longitud/9.81)\n",
    "periodof = round(periodo,2)\n",
    "print(f\"el periodo del pendulo es: {periodof} segundos\")\n",
    "\n"
   ]
  },
  {
   "cell_type": "code",
   "execution_count": 9,
   "metadata": {},
   "outputs": [
    {
     "name": "stdout",
     "output_type": "stream",
     "text": [
      "el voltaje es: 2000.0 voltios\n"
     ]
    }
   ],
   "source": [
    "#Ley de Ohm\n",
    "\n",
    "resistencia = float(input(\"ingrese la resistencia en ohmios: \"))\n",
    "corriente = float(input(\"ingrese la corriente en amperios: \"))\n",
    "voltaje = resistencia*corriente\n",
    "voltajef = round(voltaje,2)\n",
    "print(f\"el voltaje es: {voltajef} voltios\")"
   ]
  }
 ],
 "metadata": {
  "kernelspec": {
   "display_name": "Python 3",
   "language": "python",
   "name": "python3"
  },
  "language_info": {
   "codemirror_mode": {
    "name": "ipython",
    "version": 3
   },
   "file_extension": ".py",
   "mimetype": "text/x-python",
   "name": "python",
   "nbconvert_exporter": "python",
   "pygments_lexer": "ipython3",
   "version": "3.12.3"
  }
 },
 "nbformat": 4,
 "nbformat_minor": 2
}
